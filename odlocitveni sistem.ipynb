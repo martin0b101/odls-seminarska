{
 "cells": [
  {
   "cell_type": "code",
   "execution_count": 2,
   "id": "derived-brooks",
   "metadata": {},
   "outputs": [],
   "source": [
    "import pandas as pd\n",
    "import numpy as np\n",
    "import random\n",
    "import math"
   ]
  },
  {
   "cell_type": "code",
   "execution_count": 14,
   "id": "fuzzy-insertion",
   "metadata": {},
   "outputs": [],
   "source": [
    "# Branje ocen\n",
    "class UserItemData:\n",
    "\n",
    "    #data from table\n",
    "    #konstruktor\n",
    "\n",
    "    def __init__(self, path, from_date=None, to_date=None, min_ratings=0):\n",
    "        self.df = pd.read_csv(path, \"\\t\", encoding=\"ISO-8859-1\")\n",
    "\n",
    "        #split from date to day, month, year\n",
    "        if (from_date != None):\n",
    "            from_date_a = from_date.split('.')\n",
    "            to_date_a = to_date.split('.')\n",
    "            # format of date is like that year-month-day\n",
    "            from_date_datef = str(f'{from_date_a[2]}-{from_date_a[1]}-{from_date_a[0]}')\n",
    "            to_date_datef = str(f'{to_date_a[2]}-{to_date_a[1]}-{to_date_a[0]}')\n",
    "            #make new column dates\n",
    "            self.df['dates'] = self.df[\"date_year\"].astype(str).str.cat(self.df[['date_month', 'date_day']].astype(str), sep='-')\n",
    "            self.df['dates'] = pd.to_datetime(self.df['dates'])\n",
    "            self.df = self.df[self.df['dates'].between(from_date_datef, to_date_datef, inclusive=True)]\n",
    "\n",
    "        self.df = self.df.groupby(\"movieID\").filter(lambda ratings: len(ratings) >= min_ratings)\n",
    "\n",
    "    def nratings(self):\n",
    "        return len(self.df['rating'].values)\n",
    "\n",
    "    def get_watched_movie_list(self, userId):\n",
    "        return self.df[self.df[\"userID\"] == userId]['movieID'].values\n",
    "    \n",
    "    def get_all_movies_id(self):\n",
    "        return self.df['movieID'].values\n",
    "\n",
    "    #vs - vsota vseh ocen za film movieId\n",
    "    def get_sum_rating_movie(self, movieId):\n",
    "        return sum(self.df[self.df['movieID'] == movieId]['rating'])\n",
    "   \n",
    "\n",
    "    def get_sum_rating_all_movies(self):\n",
    "        return sum(self.df['rating'])\n",
    "    \n",
    "    # n - stevilo ocen ki jih je dobil film\n",
    "    def get_number_rating_movie(self, movieId):\n",
    "        return len(self.df[self.df['movieID'] == movieId])\n",
    "\n",
    "    def get_rating_of_movie(self, movieId):\n",
    "        return list(self.df[self.df['movieID'] == movieId]['rating'].values)\n",
    "\n",
    "    def get_all_users(self):\n",
    "        return list(set(self.df['userID']))\n",
    "\n",
    "    def get_number_users_rated_movies(self, movie_id1, movie_id2):\n",
    "        return len(self.df[(self.df['movieID'] == movie_id1) | (self.df['movieID'] == movie_id2)]['userID'])\n",
    "\n",
    "    def return_numpy_df(self):\n",
    "        return self.df[['movieID', 'userID', 'rating']].to_numpy()\n",
    "\n",
    "    def get_rating_movie(self, user_id, movie_id):\n",
    "        return self.df[(self.df['userID'] == user_id) & (self.df['movieID'] == movie_id)]['rating'].values\n"
   ]
  },
  {
   "cell_type": "code",
   "execution_count": 14,
   "id": "nervous-grass",
   "metadata": {},
   "outputs": [],
   "source": [
    "#Branje ocen"
   ]
  },
  {
   "cell_type": "code",
   "execution_count": 15,
   "id": "preliminary-muscle",
   "metadata": {},
   "outputs": [
    {
     "name": "stderr",
     "output_type": "stream",
     "text": [
      "/var/folders/rc/b3blcj_x11s8nxrfpkv62ll40000gp/T/ipykernel_50449/670434641.py:8: FutureWarning: In a future version of pandas all arguments of read_csv except for the argument 'filepath_or_buffer' will be keyword-only.\n",
      "  self.df = pd.read_csv(path, \"\\t\", encoding=\"ISO-8859-1\")\n"
     ]
    },
    {
     "name": "stdout",
     "output_type": "stream",
     "text": [
      "855598\n"
     ]
    },
    {
     "name": "stderr",
     "output_type": "stream",
     "text": [
      "/var/folders/rc/b3blcj_x11s8nxrfpkv62ll40000gp/T/ipykernel_50449/670434641.py:8: FutureWarning: In a future version of pandas all arguments of read_csv except for the argument 'filepath_or_buffer' will be keyword-only.\n",
      "  self.df = pd.read_csv(path, \"\\t\", encoding=\"ISO-8859-1\")\n"
     ]
    },
    {
     "name": "stdout",
     "output_type": "stream",
     "text": [
      "73657\n"
     ]
    },
    {
     "name": "stderr",
     "output_type": "stream",
     "text": [
      "/var/folders/rc/b3blcj_x11s8nxrfpkv62ll40000gp/T/ipykernel_50449/670434641.py:20: FutureWarning: Boolean inputs to the `inclusive` argument are deprecated in favour of `both` or `neither`.\n",
      "  self.df = self.df[self.df['dates'].between(from_date_datef, to_date_datef, inclusive=True)]\n"
     ]
    }
   ],
   "source": [
    "uim = UserItemData('data/user_ratedmovies.dat')\n",
    "print(uim.nratings())\n",
    "\n",
    "uim = UserItemData('data/user_ratedmovies.dat', from_date = '12.1.2007', to_date='16.2.2008', min_ratings=100)\n",
    "print(uim.nratings())"
   ]
  },
  {
   "cell_type": "code",
   "execution_count": 16,
   "id": "dried-fantasy",
   "metadata": {},
   "outputs": [],
   "source": [
    "class MovieData:\n",
    "    def __init__(self, path):\n",
    "        # encoding not working on mac air so thats why encoiding is set\n",
    "        self.df = pd.read_csv(path, sep='\\t', encoding='ISO-8859-1')\n",
    "\n",
    "    def get_title(self, movieID):\n",
    "        data = self.df[self.df.id == movieID]['title']\n",
    "        return data.values[0]"
   ]
  },
  {
   "cell_type": "code",
   "execution_count": 17,
   "id": "fifteen-enterprise",
   "metadata": {},
   "outputs": [],
   "source": [
    "# Branje filmov"
   ]
  },
  {
   "cell_type": "code",
   "execution_count": 6,
   "id": "surrounded-insulin",
   "metadata": {},
   "outputs": [
    {
     "name": "stdout",
     "output_type": "stream",
     "text": [
      "Toy story\n"
     ]
    }
   ],
   "source": [
    "md = MovieData('data/movies.dat')\n",
    "print(md.get_title(1))"
   ]
  },
  {
   "cell_type": "code",
   "execution_count": 21,
   "id": "political-content",
   "metadata": {},
   "outputs": [],
   "source": [
    "# Nakljucni predikator"
   ]
  },
  {
   "cell_type": "code",
   "execution_count": 17,
   "id": "collective-affiliate",
   "metadata": {},
   "outputs": [],
   "source": [
    "class RandomPredictor:\n",
    "    def __init__(self, min, max):\n",
    "        self.min = min\n",
    "        self.max = max\n",
    "\n",
    "    def predict(self, user_id):\n",
    "        user_ratings = dict()\n",
    "        #min_movieID = self.user_item_data.df[\"movieID\"].min()\n",
    "        #max_movieID = self.user_item_data.df[\"movieID\"].max()\n",
    "        list_of_movieIDs = list(set(self.user_item_data.get_all_movies_id()))\n",
    "        list_of_movieIDs.sort()\n",
    "        #print('list of ids ', list_of_movieIDs)\n",
    "        for movieID in list_of_movieIDs:\n",
    "            user_ratings[movieID] = random.randint(self.min, self.max)\n",
    "        return user_ratings\n",
    "\n",
    "    def fit(self, user_item_data):\n",
    "        self.user_item_data = user_item_data\n"
   ]
  },
  {
   "cell_type": "code",
   "execution_count": 18,
   "id": "expressed-migration",
   "metadata": {},
   "outputs": [
    {
     "name": "stderr",
     "output_type": "stream",
     "text": [
      "/var/folders/rc/b3blcj_x11s8nxrfpkv62ll40000gp/T/ipykernel_50449/670434641.py:8: FutureWarning: In a future version of pandas all arguments of read_csv except for the argument 'filepath_or_buffer' will be keyword-only.\n",
      "  self.df = pd.read_csv(path, \"\\t\", encoding=\"ISO-8859-1\")\n"
     ]
    },
    {
     "name": "stdout",
     "output_type": "stream",
     "text": [
      "<class 'dict'>\n",
      "Film: Toy story, ocena: 4\n",
      "Film: Grumpy Old Men, ocena: 2\n",
      "Film: Money Train, ocena: 1\n",
      "Film: The Usual Suspects, ocena: 4\n",
      "Film: City Hall, ocena: 5\n"
     ]
    }
   ],
   "source": [
    "md = MovieData('data/movies.dat')\n",
    "uim = UserItemData('data/user_ratedmovies.dat')\n",
    "rp = RandomPredictor(1, 5)\n",
    "rp.fit(uim)\n",
    "pred = rp.predict(78)\n",
    "print(type(pred))\n",
    "items = [1, 3, 20, 50, 100]\n",
    "for item in items:\n",
    "    print(\"Film: {}, ocena: {}\".format(md.get_title(item), pred[item]))"
   ]
  },
  {
   "cell_type": "code",
   "execution_count": 19,
   "id": "elegant-calculator",
   "metadata": {},
   "outputs": [],
   "source": [
    "class Recommender:\n",
    "    def __init__(self, predicator):\n",
    "        self.predicator = predicator\n",
    "    \n",
    "    def fit(self, user_item_data):\n",
    "        self.user_item_data = user_item_data\n",
    "        self.predicator.fit(self.user_item_data)\n",
    "\n",
    "    def recommend(self, userID, n=10, rec_seen=True):\n",
    "        predicted_grade = self.predicator.predict(userID)\n",
    "        recommendet_movies = []\n",
    "        watched_movie_list = list(self.user_item_data.get_watched_movie_list(userID))\n",
    "        if (rec_seen):\n",
    "            for movieId, grade in predicted_grade.items():\n",
    "                if movieId in watched_movie_list:\n",
    "                    recommendet_movies.append((movieId, grade))\n",
    "        else:\n",
    "            for movieId, grade in predicted_grade.items():\n",
    "                if movieId not in watched_movie_list:\n",
    "                    recommendet_movies.append((movieId, grade))\n",
    "        #sort recomended movies\n",
    "        recommendet_movies_sort = sorted(recommendet_movies, key=lambda t: t[1], reverse=True)\n",
    "        return recommendet_movies_sort[:n]"
   ]
  },
  {
   "cell_type": "code",
   "execution_count": 29,
   "id": "dense-singles",
   "metadata": {},
   "outputs": [],
   "source": [
    "# Priporocanje"
   ]
  },
  {
   "cell_type": "code",
   "execution_count": 20,
   "id": "polyphonic-april",
   "metadata": {},
   "outputs": [
    {
     "name": "stderr",
     "output_type": "stream",
     "text": [
      "/var/folders/rc/b3blcj_x11s8nxrfpkv62ll40000gp/T/ipykernel_50449/670434641.py:8: FutureWarning: In a future version of pandas all arguments of read_csv except for the argument 'filepath_or_buffer' will be keyword-only.\n",
      "  self.df = pd.read_csv(path, \"\\t\", encoding=\"ISO-8859-1\")\n"
     ]
    },
    {
     "name": "stdout",
     "output_type": "stream",
     "text": [
      "Film: Grumpy Old Men, ocena: 5\n",
      "Film: Father of the Bride Part II, ocena: 5\n",
      "Film: Tom and Huck, ocena: 5\n",
      "Film: Now and Then, ocena: 5\n",
      "Film: Yao a yao yao dao waipo qiao, ocena: 5\n"
     ]
    }
   ],
   "source": [
    "md = MovieData('data/movies.dat')\n",
    "uim = UserItemData('data/user_ratedmovies.dat')\n",
    "rp = RandomPredictor(1, 5)\n",
    "rec = Recommender(rp)\n",
    "rec.fit(uim)\n",
    "rec_items = rec.recommend(78, n=5, rec_seen=False)\n",
    "for idmovie, val in rec_items:\n",
    "    print(\"Film: {}, ocena: {}\".format(md.get_title(idmovie), val))  "
   ]
  },
  {
   "cell_type": "code",
   "execution_count": 12,
   "id": "likely-invitation",
   "metadata": {},
   "outputs": [],
   "source": [
    "class AveragePredictor:\n",
    "    def __init__(self, b):\n",
    "        self.b = b\n",
    "\n",
    "    def fit(self, user_item_data):\n",
    "        self.user_item_data = user_item_data\n",
    "        self.g_avg = self.user_item_data.get_sum_rating_all_movies() / self.user_item_data.nratings()\n",
    "\n",
    "    def calculate(self, movie_id):\n",
    "        vs = self.user_item_data.get_sum_rating_movie(movie_id)\n",
    "        n = self.user_item_data.get_number_rating_movie(movie_id)\n",
    "        return (vs + self.b * self.g_avg) / (n + self.b)\n",
    "\n",
    "\n",
    "    def predict(self, user_id):\n",
    "        user_ratings = dict()\n",
    "        list_of_movieIDs = list(set(self.user_item_data.get_all_movies_id()))\n",
    "        list_of_movieIDs.sort()\n",
    "        for movieID in list_of_movieIDs:\n",
    "            user_ratings[movieID] = self.calculate(movieID)\n",
    "        return user_ratings"
   ]
  },
  {
   "cell_type": "code",
   "execution_count": 35,
   "id": "timely-france",
   "metadata": {},
   "outputs": [],
   "source": [
    "### Napovedovanje s povprecjem"
   ]
  },
  {
   "cell_type": "code",
   "execution_count": 13,
   "id": "editorial-album",
   "metadata": {},
   "outputs": [
    {
     "name": "stderr",
     "output_type": "stream",
     "text": [
      "/var/folders/rc/b3blcj_x11s8nxrfpkv62ll40000gp/T/ipykernel_50166/4129940531.py:8: FutureWarning: In a future version of pandas all arguments of read_csv except for the argument 'filepath_or_buffer' will be keyword-only.\n",
      "  self.df = pd.read_csv(path, \"\\t\", encoding='ISO-8859-1')\n"
     ]
    },
    {
     "name": "stdout",
     "output_type": "stream",
     "text": [
      "Film: The Usual Suspects, ocena: 4.225944245560473\n",
      "Film: The Godfather: Part II, ocena: 4.146907937910189\n",
      "Film: Cidade de Deus, ocena: 4.116538340205236\n",
      "Film: The Dark Knight, ocena: 4.10413904093503\n",
      "Film: 12 Angry Men, ocena: 4.103639627096175\n"
     ]
    }
   ],
   "source": [
    "md = MovieData('data/movies.dat')\n",
    "uim = UserItemData('data/user_ratedmovies.dat')\n",
    "av = AveragePredictor(b=100)\n",
    "rec = Recommender(av)\n",
    "rec.fit(uim)\n",
    "rec_items = rec.recommend(78, n=5, rec_seen=False)\n",
    "for idmovie, val in rec_items:\n",
    "    print(\"Film: {}, ocena: {}\".format(md.get_title(idmovie), val))  "
   ]
  },
  {
   "cell_type": "code",
   "execution_count": 14,
   "id": "funded-watson",
   "metadata": {},
   "outputs": [],
   "source": [
    "class ViewsPredicator:\n",
    "    def __init__(self):\n",
    "        pass\n",
    "\n",
    "    def fit(self, user_item_data):\n",
    "        self.user_item_data = user_item_data\n",
    "\n",
    "    def predict(self, user_id):\n",
    "        user_ratings = dict()\n",
    "        list_of_movieIDs = list(set(self.user_item_data.get_all_movies_id()))\n",
    "        list_of_movieIDs.sort()\n",
    "        for movieID in list_of_movieIDs:\n",
    "            user_ratings[movieID] = self.user_item_data.get_number_rating_movie(movieID)\n",
    "        return user_ratings"
   ]
  },
  {
   "cell_type": "code",
   "execution_count": 46,
   "id": "surprised-clerk",
   "metadata": {},
   "outputs": [],
   "source": [
    "# Priporočanje najbolj gledanih filmov"
   ]
  },
  {
   "cell_type": "code",
   "execution_count": 15,
   "id": "impaired-condition",
   "metadata": {},
   "outputs": [
    {
     "name": "stderr",
     "output_type": "stream",
     "text": [
      "/var/folders/rc/b3blcj_x11s8nxrfpkv62ll40000gp/T/ipykernel_50166/4129940531.py:8: FutureWarning: In a future version of pandas all arguments of read_csv except for the argument 'filepath_or_buffer' will be keyword-only.\n",
      "  self.df = pd.read_csv(path, \"\\t\", encoding='ISO-8859-1')\n"
     ]
    },
    {
     "name": "stdout",
     "output_type": "stream",
     "text": [
      "Film: The Lord of the Rings: The Fellowship of the Ring, ocena: 1576\n",
      "Film: The Lord of the Rings: The Two Towers, ocena: 1528\n",
      "Film: The Lord of the Rings: The Return of the King, ocena: 1457\n",
      "Film: The Silence of the Lambs, ocena: 1431\n",
      "Film: Shrek, ocena: 1404\n"
     ]
    }
   ],
   "source": [
    "md = MovieData('data/movies.dat')\n",
    "uim = UserItemData('data/user_ratedmovies.dat')\n",
    "vp = ViewsPredicator()\n",
    "rec = Recommender(vp)\n",
    "rec.fit(uim)\n",
    "rec_items = rec.recommend(78, n=5, rec_seen=False)\n",
    "for idmovie, val in rec_items:\n",
    "    print(\"Film: {}, ocena: {}\".format(md.get_title(idmovie), val)) "
   ]
  },
  {
   "cell_type": "code",
   "execution_count": null,
   "id": "caroline-zealand",
   "metadata": {},
   "outputs": [],
   "source": []
  },
  {
   "cell_type": "code",
   "execution_count": 27,
   "id": "australian-butterfly",
   "metadata": {},
   "outputs": [],
   "source": [
    "class ItemBasedPredictor:\n",
    "    def __init__(self, min_values=0, threshold=0):\n",
    "        self.min_values = min_values\n",
    "        self.threshold = threshold\n",
    "\n",
    "    def fit(self, user_item_data):\n",
    "        self.user_item_data = user_item_data\n",
    "        self.all_users = self.user_item_data.get_all_users()\n",
    "        self.df_numpy = self.user_item_data.return_numpy_df()\n",
    "        # get all users and calculates avg rating\n",
    "        self.user_avg = dict()\n",
    "        for user in self.all_users:\n",
    "            user_rating = self.user_item_data.df[self.user_item_data.df['userID'] == user]['rating']\n",
    "            self.user_avg[user] = sum(user_rating) / len(user_rating)\n",
    "        self.all_sim = self.calcualte_all_sim_with_numpy()\n",
    "    \n",
    "    # calculates all sim for every movie and returns dict \n",
    "    # with {(movieId1, movieId2): similarity} \n",
    "    def calculate_all_sim(self):\n",
    "        # all movies and sim\n",
    "        movie_sim = dict()\n",
    "        all_movies_np1 = np.unique(self.df_numpy[:, 0])\n",
    "        all_movies_np2 = np.unique(self.df_numpy[:, 0])\n",
    "        for movieId1 in all_movies_np1:\n",
    "            for movieId2 in all_movies_np2:\n",
    "                if movieId1 != movieId2:\n",
    "                    movie_sim[(movieId1, movieId2)] = self.similarity(movieId1, movieId2)\n",
    "        return movie_sim\n",
    "\n",
    "    def calcualte_all_sim_with_numpy(self):\n",
    "        movis_sim_np_array = []\n",
    "        all_movies_np1 = np.unique(self.df_numpy[:, 0])\n",
    "        all_movies_np2 = np.unique(self.df_numpy[:, 0])\n",
    "        for movieId1 in all_movies_np1:\n",
    "            for movieId2 in all_movies_np2:\n",
    "                if movieId1 != movieId2:\n",
    "                    similarity = self.similarity(movieId1, movieId2)\n",
    "                    if similarity > 0:\n",
    "                        movis_sim_np_array.append([movieId1, movieId2, similarity])\n",
    "        return np.array(movis_sim_np_array)\n",
    "    \n",
    "    \n",
    "    # for every sim that is >0 get the number of rating that user gave movie\n",
    "    # formula is sum(sim*rating_user)/sum(sim)\n",
    "    def predict(self, user_id):\n",
    "        predict_movie_ratings = dict()\n",
    "        for movieId in self.all_sim[:, 0]:\n",
    "            pred_for_user = self.all_sim[np.where(self.all_sim[:, 0] == movieId)]\n",
    "            formula_first_line = 0\n",
    "            sum_sim = 0\n",
    "            i = 0\n",
    "            for movieid2 in pred_for_user[:, 1]:\n",
    "                rating = uim.get_rating_movie(user_id, int(movieid2))\n",
    "                if rating.size > 0:\n",
    "                    sim = pred_for_user[i, 2]\n",
    "                    sum_sim += sim\n",
    "                    formula_first_line += (sim*rating[0])\n",
    "                i+=1\n",
    "            pred = formula_first_line/sum_sim\n",
    "\n",
    "            predict_movie_ratings[movieId] = pred\n",
    "        return predict_movie_ratings\n",
    "\n",
    "    def similarity(self, p1, p2):\n",
    "        #check if number of users that graded two movies are enough\n",
    "        if (self.user_item_data.get_number_users_rated_movies(p1, p2) < self.min_values):\n",
    "            return 0.0\n",
    "\n",
    "        frist_line_in_fromula = 0\n",
    "        movie1_sqrt = 0\n",
    "        movie2_sqrt = 0\n",
    "        movie1_df_filter = self.df_numpy[np.where(self.df_numpy[:, 0] == p1)]\n",
    "        movie2_df_filter = self.df_numpy[np.where(self.df_numpy[:, 0] == p2)]\n",
    "        for user in self.user_avg.keys():\n",
    "            ratings_movie1 = movie1_df_filter[np.where(movie1_df_filter[:, 1] == user)]\n",
    "            ratings_movie2 = movie2_df_filter[np.where(movie2_df_filter[:, 1] == user)]\n",
    "            if ratings_movie1.size > 0 and ratings_movie2.size > 0:\n",
    "                avg_from_user = self.user_avg[user]\n",
    "                rating_movie1_cal = ratings_movie1[:, -1][0] - avg_from_user\n",
    "                rating_movie2_cal = ratings_movie2[:, -1][0] - avg_from_user\n",
    "                frist_line_in_fromula += ((rating_movie1_cal) * (rating_movie2_cal))\n",
    "                movie1_sqrt += ((rating_movie1_cal) ** 2)\n",
    "                movie2_sqrt += ((rating_movie2_cal) ** 2)\n",
    "        self.similarity_result = frist_line_in_fromula / (math.sqrt(movie1_sqrt)*math.sqrt(movie2_sqrt))\n",
    "        if self.similarity_result < self.threshold:\n",
    "            return 0.0\n",
    "        return self.similarity_result\n",
    "    \n",
    "        \n",
    "    \n",
    "    # item is movieId\n",
    "    def similarItems(self, item, n):\n",
    "        movies_np_array = np.unique(self.df_numpy[:, 0])\n",
    "        most_similar = list()\n",
    "        for movieId in movies_np_array:\n",
    "            if movieId != item:\n",
    "                most_similar.append((movieId, self.similarity(item, movieId)))\n",
    "        most_similar.sort(key=lambda x : x[1], reverse=True)\n",
    "        return most_similar[:n]"
   ]
  },
  {
   "cell_type": "code",
   "execution_count": null,
   "id": "annoying-penetration",
   "metadata": {},
   "outputs": [],
   "source": []
  },
  {
   "cell_type": "code",
   "execution_count": 28,
   "id": "suitable-korea",
   "metadata": {},
   "outputs": [
    {
     "name": "stderr",
     "output_type": "stream",
     "text": [
      "/var/folders/rc/b3blcj_x11s8nxrfpkv62ll40000gp/T/ipykernel_50449/670434641.py:8: FutureWarning: In a future version of pandas all arguments of read_csv except for the argument 'filepath_or_buffer' will be keyword-only.\n",
      "  self.df = pd.read_csv(path, \"\\t\", encoding=\"ISO-8859-1\")\n"
     ]
    },
    {
     "name": "stdout",
     "output_type": "stream",
     "text": [
      "Podobnost med filmoma 'Men in black'(1580) in 'Ghostbusters'(2716):  0.2339552317675662\n",
      "Podobnost med filmoma 'Men in black'(1580) in 'Schindler's List'(527):  0.0\n",
      "Podobnost med filmoma 'Men in black'(1580) in 'Independence day'(780):  0.42466125844687624\n"
     ]
    }
   ],
   "source": [
    "md = MovieData('data/movies.dat')\n",
    "uim = UserItemData('data/user_ratedmovies.dat', min_ratings=1000)\n",
    "rp = ItemBasedPredictor()\n",
    "rec = Recommender(rp)\n",
    "rec.fit(uim)\n",
    "print(\"Podobnost med filmoma 'Men in black'(1580) in 'Ghostbusters'(2716): \", rp.similarity(1580, 2716))\n",
    "print(\"Podobnost med filmoma 'Men in black'(1580) in 'Schindler's List'(527): \", rp.similarity(1580, 527))\n",
    "print(\"Podobnost med filmoma 'Men in black'(1580) in 'Independence day'(780): \", rp.similarity(1580, 780))"
   ]
  },
  {
   "cell_type": "code",
   "execution_count": null,
   "id": "efficient-hunger",
   "metadata": {},
   "outputs": [],
   "source": []
  },
  {
   "cell_type": "code",
   "execution_count": null,
   "id": "34a57bd7",
   "metadata": {},
   "outputs": [],
   "source": [
    "# predict"
   ]
  },
  {
   "cell_type": "code",
   "execution_count": null,
   "id": "980adc98",
   "metadata": {},
   "outputs": [],
   "source": []
  },
  {
   "cell_type": "code",
   "execution_count": 29,
   "id": "authentic-lunch",
   "metadata": {},
   "outputs": [
    {
     "ename": "KeyboardInterrupt",
     "evalue": "",
     "output_type": "error",
     "traceback": [
      "\u001b[0;31m---------------------------------------------------------------------------\u001b[0m",
      "\u001b[0;31mKeyboardInterrupt\u001b[0m                         Traceback (most recent call last)",
      "Cell \u001b[0;32mIn[29], line 14\u001b[0m\n\u001b[1;32m     12\u001b[0m     movieId1, movieId2 \u001b[38;5;241m=\u001b[39m moveIds\n\u001b[1;32m     13\u001b[0m     name \u001b[38;5;241m=\u001b[39m \u001b[38;5;124mf\u001b[39m\u001b[38;5;124m\"\u001b[39m\u001b[38;5;124mFilm1: \u001b[39m\u001b[38;5;132;01m{\u001b[39;00mmd\u001b[38;5;241m.\u001b[39mget_title(movieId1)\u001b[38;5;132;01m}\u001b[39;00m\u001b[38;5;124m, Film2: \u001b[39m\u001b[38;5;132;01m{\u001b[39;00mmd\u001b[38;5;241m.\u001b[39mget_title(movieId2)\u001b[38;5;132;01m}\u001b[39;00m\u001b[38;5;124m, podobnost:\u001b[39m\u001b[38;5;124m\"\u001b[39m\n\u001b[0;32m---> 14\u001b[0m     podobnost \u001b[38;5;241m=\u001b[39m \u001b[43mrp\u001b[49m\u001b[38;5;241;43m.\u001b[39;49m\u001b[43msimilarity\u001b[49m\u001b[43m(\u001b[49m\u001b[43mmovieId1\u001b[49m\u001b[43m,\u001b[49m\u001b[43m \u001b[49m\u001b[43mmovieId2\u001b[49m\u001b[43m)\u001b[49m\n\u001b[1;32m     15\u001b[0m     similarty_all_movies\u001b[38;5;241m.\u001b[39mappend((name, podobnost))\n\u001b[1;32m     16\u001b[0m similarty_all_movies\u001b[38;5;241m.\u001b[39msort(key\u001b[38;5;241m=\u001b[39m\u001b[38;5;28;01mlambda\u001b[39;00m x : x[\u001b[38;5;241m1\u001b[39m], reverse\u001b[38;5;241m=\u001b[39m\u001b[38;5;28;01mTrue\u001b[39;00m)\n",
      "Cell \u001b[0;32mIn[27], line 66\u001b[0m, in \u001b[0;36mItemBasedPredictor.similarity\u001b[0;34m(self, p1, p2)\u001b[0m\n\u001b[1;32m     64\u001b[0m \u001b[38;5;28;01mdef\u001b[39;00m \u001b[38;5;21msimilarity\u001b[39m(\u001b[38;5;28mself\u001b[39m, p1, p2):\n\u001b[1;32m     65\u001b[0m     \u001b[38;5;66;03m#check if number of users that graded two movies are enough\u001b[39;00m\n\u001b[0;32m---> 66\u001b[0m     \u001b[38;5;28;01mif\u001b[39;00m (\u001b[38;5;28;43mself\u001b[39;49m\u001b[38;5;241;43m.\u001b[39;49m\u001b[43muser_item_data\u001b[49m\u001b[38;5;241;43m.\u001b[39;49m\u001b[43mget_number_users_rated_movies\u001b[49m\u001b[43m(\u001b[49m\u001b[43mp1\u001b[49m\u001b[43m,\u001b[49m\u001b[43m \u001b[49m\u001b[43mp2\u001b[49m\u001b[43m)\u001b[49m \u001b[38;5;241m<\u001b[39m \u001b[38;5;28mself\u001b[39m\u001b[38;5;241m.\u001b[39mmin_values):\n\u001b[1;32m     67\u001b[0m         \u001b[38;5;28;01mreturn\u001b[39;00m \u001b[38;5;241m0.0\u001b[39m\n\u001b[1;32m     69\u001b[0m     frist_line_in_fromula \u001b[38;5;241m=\u001b[39m \u001b[38;5;241m0\u001b[39m\n",
      "Cell \u001b[0;32mIn[14], line 52\u001b[0m, in \u001b[0;36mUserItemData.get_number_users_rated_movies\u001b[0;34m(self, movie_id1, movie_id2)\u001b[0m\n\u001b[1;32m     51\u001b[0m \u001b[38;5;28;01mdef\u001b[39;00m \u001b[38;5;21mget_number_users_rated_movies\u001b[39m(\u001b[38;5;28mself\u001b[39m, movie_id1, movie_id2):\n\u001b[0;32m---> 52\u001b[0m     \u001b[38;5;28;01mreturn\u001b[39;00m \u001b[38;5;28mlen\u001b[39m(\u001b[38;5;28;43mself\u001b[39;49m\u001b[38;5;241;43m.\u001b[39;49m\u001b[43mdf\u001b[49m\u001b[43m[\u001b[49m\u001b[43m(\u001b[49m\u001b[38;5;28;43mself\u001b[39;49m\u001b[38;5;241;43m.\u001b[39;49m\u001b[43mdf\u001b[49m\u001b[43m[\u001b[49m\u001b[38;5;124;43m'\u001b[39;49m\u001b[38;5;124;43mmovieID\u001b[39;49m\u001b[38;5;124;43m'\u001b[39;49m\u001b[43m]\u001b[49m\u001b[43m \u001b[49m\u001b[38;5;241;43m==\u001b[39;49m\u001b[43m \u001b[49m\u001b[43mmovie_id1\u001b[49m\u001b[43m)\u001b[49m\u001b[43m \u001b[49m\u001b[38;5;241;43m|\u001b[39;49m\u001b[43m \u001b[49m\u001b[43m(\u001b[49m\u001b[38;5;28;43mself\u001b[39;49m\u001b[38;5;241;43m.\u001b[39;49m\u001b[43mdf\u001b[49m\u001b[43m[\u001b[49m\u001b[38;5;124;43m'\u001b[39;49m\u001b[38;5;124;43mmovieID\u001b[39;49m\u001b[38;5;124;43m'\u001b[39;49m\u001b[43m]\u001b[49m\u001b[43m \u001b[49m\u001b[38;5;241;43m==\u001b[39;49m\u001b[43m \u001b[49m\u001b[43mmovie_id2\u001b[49m\u001b[43m)\u001b[49m\u001b[43m]\u001b[49m\u001b[43m[\u001b[49m\u001b[38;5;124;43m'\u001b[39;49m\u001b[38;5;124;43muserID\u001b[39;49m\u001b[38;5;124;43m'\u001b[39;49m\u001b[43m]\u001b[49m)\n",
      "File \u001b[0;32m/opt/homebrew/lib/python3.10/site-packages/pandas/core/frame.py:3772\u001b[0m, in \u001b[0;36mDataFrame.__getitem__\u001b[0;34m(self, key)\u001b[0m\n\u001b[1;32m   3765\u001b[0m \u001b[38;5;66;03m# GH#45316 Return view if key is not duplicated\u001b[39;00m\n\u001b[1;32m   3766\u001b[0m \u001b[38;5;66;03m# Only use drop_duplicates with duplicates for performance\u001b[39;00m\n\u001b[1;32m   3767\u001b[0m \u001b[38;5;28;01mif\u001b[39;00m \u001b[38;5;129;01mnot\u001b[39;00m is_mi \u001b[38;5;129;01mand\u001b[39;00m (\n\u001b[1;32m   3768\u001b[0m     \u001b[38;5;28mself\u001b[39m\u001b[38;5;241m.\u001b[39mcolumns\u001b[38;5;241m.\u001b[39mis_unique\n\u001b[1;32m   3769\u001b[0m     \u001b[38;5;129;01mand\u001b[39;00m key \u001b[38;5;129;01min\u001b[39;00m \u001b[38;5;28mself\u001b[39m\u001b[38;5;241m.\u001b[39mcolumns\n\u001b[1;32m   3770\u001b[0m     \u001b[38;5;129;01mor\u001b[39;00m key \u001b[38;5;129;01min\u001b[39;00m \u001b[38;5;28mself\u001b[39m\u001b[38;5;241m.\u001b[39mcolumns\u001b[38;5;241m.\u001b[39mdrop_duplicates(keep\u001b[38;5;241m=\u001b[39m\u001b[38;5;28;01mFalse\u001b[39;00m)\n\u001b[1;32m   3771\u001b[0m ):\n\u001b[0;32m-> 3772\u001b[0m     \u001b[38;5;28;01mreturn\u001b[39;00m \u001b[38;5;28;43mself\u001b[39;49m\u001b[38;5;241;43m.\u001b[39;49m\u001b[43m_get_item_cache\u001b[49m\u001b[43m(\u001b[49m\u001b[43mkey\u001b[49m\u001b[43m)\u001b[49m\n\u001b[1;32m   3774\u001b[0m \u001b[38;5;28;01melif\u001b[39;00m is_mi \u001b[38;5;129;01mand\u001b[39;00m \u001b[38;5;28mself\u001b[39m\u001b[38;5;241m.\u001b[39mcolumns\u001b[38;5;241m.\u001b[39mis_unique \u001b[38;5;129;01mand\u001b[39;00m key \u001b[38;5;129;01min\u001b[39;00m \u001b[38;5;28mself\u001b[39m\u001b[38;5;241m.\u001b[39mcolumns:\n\u001b[1;32m   3775\u001b[0m     \u001b[38;5;28;01mreturn\u001b[39;00m \u001b[38;5;28mself\u001b[39m\u001b[38;5;241m.\u001b[39m_getitem_multilevel(key)\n",
      "File \u001b[0;32m/opt/homebrew/lib/python3.10/site-packages/pandas/core/frame.py:4280\u001b[0m, in \u001b[0;36mDataFrame._get_item_cache\u001b[0;34m(self, item)\u001b[0m\n\u001b[1;32m   4275\u001b[0m \u001b[38;5;28;01mif\u001b[39;00m res \u001b[38;5;129;01mis\u001b[39;00m \u001b[38;5;28;01mNone\u001b[39;00m:\n\u001b[1;32m   4276\u001b[0m     \u001b[38;5;66;03m# All places that call _get_item_cache have unique columns,\u001b[39;00m\n\u001b[1;32m   4277\u001b[0m     \u001b[38;5;66;03m#  pending resolution of GH#33047\u001b[39;00m\n\u001b[1;32m   4279\u001b[0m     loc \u001b[38;5;241m=\u001b[39m \u001b[38;5;28mself\u001b[39m\u001b[38;5;241m.\u001b[39mcolumns\u001b[38;5;241m.\u001b[39mget_loc(item)\n\u001b[0;32m-> 4280\u001b[0m     res \u001b[38;5;241m=\u001b[39m \u001b[38;5;28;43mself\u001b[39;49m\u001b[38;5;241;43m.\u001b[39;49m\u001b[43m_ixs\u001b[49m\u001b[43m(\u001b[49m\u001b[43mloc\u001b[49m\u001b[43m,\u001b[49m\u001b[43m \u001b[49m\u001b[43maxis\u001b[49m\u001b[38;5;241;43m=\u001b[39;49m\u001b[38;5;241;43m1\u001b[39;49m\u001b[43m)\u001b[49m\n\u001b[1;32m   4282\u001b[0m     cache[item] \u001b[38;5;241m=\u001b[39m res\n\u001b[1;32m   4284\u001b[0m     \u001b[38;5;66;03m# for a chain\u001b[39;00m\n",
      "File \u001b[0;32m/opt/homebrew/lib/python3.10/site-packages/pandas/core/frame.py:3726\u001b[0m, in \u001b[0;36mDataFrame._ixs\u001b[0;34m(self, i, axis)\u001b[0m\n\u001b[1;32m   3722\u001b[0m     \u001b[38;5;28;01mreturn\u001b[39;00m result\n\u001b[1;32m   3724\u001b[0m \u001b[38;5;66;03m# icol\u001b[39;00m\n\u001b[1;32m   3725\u001b[0m \u001b[38;5;28;01melse\u001b[39;00m:\n\u001b[0;32m-> 3726\u001b[0m     label \u001b[38;5;241m=\u001b[39m \u001b[38;5;28;43mself\u001b[39;49m\u001b[38;5;241;43m.\u001b[39;49m\u001b[43mcolumns\u001b[49m\u001b[43m[\u001b[49m\u001b[43mi\u001b[49m\u001b[43m]\u001b[49m\n\u001b[1;32m   3728\u001b[0m     col_mgr \u001b[38;5;241m=\u001b[39m \u001b[38;5;28mself\u001b[39m\u001b[38;5;241m.\u001b[39m_mgr\u001b[38;5;241m.\u001b[39miget(i)\n\u001b[1;32m   3729\u001b[0m     result \u001b[38;5;241m=\u001b[39m \u001b[38;5;28mself\u001b[39m\u001b[38;5;241m.\u001b[39m_box_col_values(col_mgr, i)\n",
      "File \u001b[0;32m/opt/homebrew/lib/python3.10/site-packages/pandas/core/indexes/base.py:5362\u001b[0m, in \u001b[0;36mIndex.__getitem__\u001b[0;34m(self, key)\u001b[0m\n\u001b[1;32m   5358\u001b[0m getitem \u001b[38;5;241m=\u001b[39m \u001b[38;5;28mself\u001b[39m\u001b[38;5;241m.\u001b[39m_data\u001b[38;5;241m.\u001b[39m\u001b[38;5;21m__getitem__\u001b[39m\n\u001b[1;32m   5360\u001b[0m \u001b[38;5;28;01mif\u001b[39;00m is_integer(key) \u001b[38;5;129;01mor\u001b[39;00m is_float(key):\n\u001b[1;32m   5361\u001b[0m     \u001b[38;5;66;03m# GH#44051 exclude bool, which would return a 2d ndarray\u001b[39;00m\n\u001b[0;32m-> 5362\u001b[0m     key \u001b[38;5;241m=\u001b[39m \u001b[43mcom\u001b[49m\u001b[38;5;241;43m.\u001b[39;49m\u001b[43mcast_scalar_indexer\u001b[49m\u001b[43m(\u001b[49m\u001b[43mkey\u001b[49m\u001b[43m,\u001b[49m\u001b[43m \u001b[49m\u001b[43mwarn_float\u001b[49m\u001b[38;5;241;43m=\u001b[39;49m\u001b[38;5;28;43;01mTrue\u001b[39;49;00m\u001b[43m)\u001b[49m\n\u001b[1;32m   5363\u001b[0m     \u001b[38;5;28;01mreturn\u001b[39;00m getitem(key)\n\u001b[1;32m   5365\u001b[0m \u001b[38;5;28;01mif\u001b[39;00m \u001b[38;5;28misinstance\u001b[39m(key, \u001b[38;5;28mslice\u001b[39m):\n\u001b[1;32m   5366\u001b[0m     \u001b[38;5;66;03m# This case is separated from the conditional above to avoid\u001b[39;00m\n\u001b[1;32m   5367\u001b[0m     \u001b[38;5;66;03m# pessimization com.is_bool_indexer and ndim checks.\u001b[39;00m\n",
      "File \u001b[0;32m/opt/homebrew/lib/python3.10/site-packages/pandas/core/common.py:151\u001b[0m, in \u001b[0;36mcast_scalar_indexer\u001b[0;34m(val, warn_float)\u001b[0m\n\u001b[1;32m    146\u001b[0m             \u001b[38;5;28;01mreturn\u001b[39;00m lib\u001b[38;5;241m.\u001b[39mis_bool_list(key)\n\u001b[1;32m    148\u001b[0m     \u001b[38;5;28;01mreturn\u001b[39;00m \u001b[38;5;28;01mFalse\u001b[39;00m\n\u001b[0;32m--> 151\u001b[0m \u001b[38;5;28;01mdef\u001b[39;00m \u001b[38;5;21mcast_scalar_indexer\u001b[39m(val, warn_float: \u001b[38;5;28mbool\u001b[39m \u001b[38;5;241m=\u001b[39m \u001b[38;5;28;01mFalse\u001b[39;00m):\n\u001b[1;32m    152\u001b[0m     \u001b[38;5;124;03m\"\"\"\u001b[39;00m\n\u001b[1;32m    153\u001b[0m \u001b[38;5;124;03m    To avoid numpy DeprecationWarnings, cast float to integer where valid.\u001b[39;00m\n\u001b[1;32m    154\u001b[0m \n\u001b[0;32m   (...)\u001b[0m\n\u001b[1;32m    163\u001b[0m \u001b[38;5;124;03m    outval : scalar\u001b[39;00m\n\u001b[1;32m    164\u001b[0m \u001b[38;5;124;03m    \"\"\"\u001b[39;00m\n\u001b[1;32m    165\u001b[0m     \u001b[38;5;66;03m# assumes lib.is_scalar(val)\u001b[39;00m\n",
      "\u001b[0;31mKeyboardInterrupt\u001b[0m: "
     ]
    }
   ],
   "source": [
    "movies = np.array(list(set(uim.get_all_movies_id())))\n",
    "top_20_most_similar_movies = dict()\n",
    "for movie1 in movies:\n",
    "    for movie2 in movies:\n",
    "        if movie1 != movie2:\n",
    "            top_20_most_similar_movies[(movie1, movie2)] = (md.get_title(movie1), md.get_title(movie2))\n",
    "\n",
    "top_20_most_similar_movies_sorted = sorted(top_20_most_similar_movies)\n",
    "\n",
    "similarty_all_movies = list()\n",
    "for moveIds in top_20_most_similar_movies_sorted:\n",
    "    movieId1, movieId2 = moveIds\n",
    "    name = f\"Film1: {md.get_title(movieId1)}, Film2: {md.get_title(movieId2)}, podobnost:\"\n",
    "    podobnost = rp.similarity(movieId1, movieId2)\n",
    "    similarty_all_movies.append((name, podobnost))\n",
    "similarty_all_movies.sort(key=lambda x : x[1], reverse=True)\n",
    "for name_sim in similarty_all_movies[:20]:\n",
    "    name, sim = name_sim\n",
    "    print(f'{name} {sim}')\n",
    "\n",
    "    "
   ]
  },
  {
   "cell_type": "code",
   "execution_count": 19,
   "id": "alpha-company",
   "metadata": {},
   "outputs": [
    {
     "name": "stdout",
     "output_type": "stream",
     "text": [
      "Filmi podobni \"The Lord of the Rings: The Fellowship of the Ring\": \n",
      "Film: The Lord of the Rings: The Two Towers, ocena: 0.8231885401761893\n",
      "Film: The Lord of the Rings: The Return of the King, ocena: 0.8079374897442505\n",
      "Film: Star Wars: Episode V - The Empire Strikes Back, ocena: 0.23961943073496456\n",
      "Film: Star Wars, ocena: 0.21965586527074096\n",
      "Film: The Matrix, ocena: 0.21515552706880264\n",
      "Film: Raiders of the Lost Ark, ocena: 0.19944276706345018\n",
      "Film: The Usual Suspects, ocena: 0.18321188451910747\n",
      "Film: Blade Runner, ocena: 0.16399681315410283\n",
      "Film: Schindler's List, ocena: 0.16105905138148705\n",
      "Film: Monty Python and the Holy Grail, ocena: 0.15780453798519112\n"
     ]
    }
   ],
   "source": [
    "rec_items = rp.similarItems(4993, 10)\n",
    "print('Filmi podobni \"The Lord of the Rings: The Fellowship of the Ring\": ')\n",
    "for idmovie, val in rec_items:\n",
    "    print(\"Film: {}, ocena: {}\".format(md.get_title(idmovie), val))"
   ]
  },
  {
   "cell_type": "code",
   "execution_count": null,
   "id": "precise-blank",
   "metadata": {},
   "outputs": [],
   "source": []
  },
  {
   "cell_type": "code",
   "execution_count": null,
   "id": "optimum-granny",
   "metadata": {},
   "outputs": [],
   "source": []
  },
  {
   "cell_type": "code",
   "execution_count": null,
   "id": "protective-interstate",
   "metadata": {},
   "outputs": [],
   "source": []
  },
  {
   "cell_type": "code",
   "execution_count": 30,
   "id": "peripheral-surname",
   "metadata": {},
   "outputs": [
    {
     "name": "stdout",
     "output_type": "stream",
     "text": [
      "[1.00000000e+00 1.50000000e+02 9.95457135e-02]\n"
     ]
    }
   ],
   "source": [
    "all_sim = rp.calcualte_all_sim_with_numpy()\n",
    "print(all_sim[0])"
   ]
  },
  {
   "cell_type": "code",
   "execution_count": 48,
   "id": "intimate-round",
   "metadata": {},
   "outputs": [
    {
     "data": {
      "text/plain": [
       "0.09954571353820202"
      ]
     },
     "execution_count": 48,
     "metadata": {},
     "output_type": "execute_result"
    }
   ],
   "source": [
    "all_sim[0,2]"
   ]
  },
  {
   "cell_type": "code",
   "execution_count": 56,
   "id": "sweet-category",
   "metadata": {},
   "outputs": [
    {
     "data": {
      "text/plain": [
       "array([0.84398421, 0.84398421, 0.82318854, 0.82318854, 0.80793749,\n",
       "       0.80793749, 0.73723402, 0.73723402, 0.70213211, 0.70213211,\n",
       "       0.66164718, 0.66164718, 0.59922538, 0.59922538, 0.56104262,\n",
       "       0.56104262, 0.55465112, 0.55465112, 0.55378493, 0.55378493])"
      ]
     },
     "execution_count": 56,
     "metadata": {},
     "output_type": "execute_result"
    }
   ],
   "source": [
    "sorted_sim = all_sim[all_sim[:, 2].argsort()][::-1]\n",
    "sorted_sim[:20]"
   ]
  },
  {
   "cell_type": "code",
   "execution_count": null,
   "id": "b739ad74",
   "metadata": {},
   "outputs": [],
   "source": []
  },
  {
   "cell_type": "code",
   "execution_count": 22,
   "id": "favorite-elite",
   "metadata": {},
   "outputs": [],
   "source": [
    "movieIds1 = all_sim[:, 0]\n",
    "movieIds2 = all_sim[:, 1] \n",
    "sums = all_sim[:, 2]"
   ]
  },
  {
   "cell_type": "code",
   "execution_count": null,
   "id": "recreational-disney",
   "metadata": {},
   "outputs": [],
   "source": [
    "def predict(user, movieId):\n",
    "    \n",
    "    \n",
    "    "
   ]
  },
  {
   "cell_type": "code",
   "execution_count": null,
   "id": "current-walter",
   "metadata": {},
   "outputs": [],
   "source": []
  },
  {
   "cell_type": "code",
   "execution_count": 23,
   "id": "related-estonia",
   "metadata": {},
   "outputs": [],
   "source": [
    "pred_for_user_78 = all_sim[np.where(all_sim[:, 0] == 47)]"
   ]
  },
  {
   "cell_type": "code",
   "execution_count": 24,
   "id": "lined-testing",
   "metadata": {},
   "outputs": [
    {
     "data": {
      "text/plain": [
       "array([[4.70000000e+01, 3.20000000e+01, 3.27358819e-01],\n",
       "       [4.70000000e+01, 5.00000000e+01, 3.13918799e-01],\n",
       "       [4.70000000e+01, 1.10000000e+02, 8.58597168e-02],\n",
       "       [4.70000000e+01, 2.96000000e+02, 3.61031072e-01],\n",
       "       [4.70000000e+01, 3.18000000e+02, 3.29517099e-01],\n",
       "       [4.70000000e+01, 3.56000000e+02, 3.89742490e-02],\n",
       "       [4.70000000e+01, 5.27000000e+02, 1.23721750e-01],\n",
       "       [4.70000000e+01, 5.41000000e+02, 1.15205931e-01],\n",
       "       [4.70000000e+01, 5.89000000e+02, 2.86011567e-02],\n",
       "       [4.70000000e+01, 5.93000000e+02, 4.37174193e-01],\n",
       "       [4.70000000e+01, 6.08000000e+02, 9.63631138e-02],\n",
       "       [4.70000000e+01, 8.58000000e+02, 2.92519820e-01],\n",
       "       [4.70000000e+01, 1.03600000e+03, 5.90500716e-04],\n",
       "       [4.70000000e+01, 1.08900000e+03, 2.92461011e-01],\n",
       "       [4.70000000e+01, 1.13600000e+03, 1.39498143e-01],\n",
       "       [4.70000000e+01, 1.19600000e+03, 5.18555923e-02],\n",
       "       [4.70000000e+01, 1.19800000e+03, 1.23722399e-01],\n",
       "       [4.70000000e+01, 1.21400000e+03, 1.46912123e-01],\n",
       "       [4.70000000e+01, 1.26500000e+03, 8.27247027e-02],\n",
       "       [4.70000000e+01, 1.29100000e+03, 1.11484563e-02],\n",
       "       [4.70000000e+01, 1.52700000e+03, 2.53940089e-03],\n",
       "       [4.70000000e+01, 1.70400000e+03, 9.81334263e-02],\n",
       "       [4.70000000e+01, 1.96100000e+03, 7.84409747e-02],\n",
       "       [4.70000000e+01, 2.02800000e+03, 5.69878398e-02],\n",
       "       [4.70000000e+01, 2.57100000e+03, 1.54106762e-01],\n",
       "       [4.70000000e+01, 2.76200000e+03, 1.39020756e-01],\n",
       "       [4.70000000e+01, 2.85800000e+03, 2.33709344e-01],\n",
       "       [4.70000000e+01, 2.95900000e+03, 4.03227537e-01],\n",
       "       [4.70000000e+01, 2.99700000e+03, 5.56790832e-02],\n",
       "       [4.70000000e+01, 3.57800000e+03, 1.78243323e-02],\n",
       "       [4.70000000e+01, 4.22600000e+03, 2.77317649e-01],\n",
       "       [4.70000000e+01, 4.97300000e+03, 1.65305347e-01],\n",
       "       [4.70000000e+01, 4.99300000e+03, 2.42344033e-02],\n",
       "       [4.70000000e+01, 4.99500000e+03, 1.41130809e-02],\n",
       "       [4.70000000e+01, 6.71100000e+03, 4.27593778e-02],\n",
       "       [4.70000000e+01, 6.87400000e+03, 4.28887781e-02],\n",
       "       [4.70000000e+01, 7.15300000e+03, 1.16550632e-02],\n",
       "       [4.70000000e+01, 7.36100000e+03, 2.43088840e-01],\n",
       "       [4.70000000e+01, 7.43800000e+03, 7.47923032e-04],\n",
       "       [4.70000000e+01, 3.25870000e+04, 1.12873292e-01]])"
      ]
     },
     "execution_count": 24,
     "metadata": {},
     "output_type": "execute_result"
    }
   ],
   "source": [
    "pred_for_user_78"
   ]
  },
  {
   "cell_type": "code",
   "execution_count": 26,
   "id": "missing-legislation",
   "metadata": {},
   "outputs": [
    {
     "name": "stderr",
     "output_type": "stream",
     "text": [
      "/var/folders/rc/b3blcj_x11s8nxrfpkv62ll40000gp/T/ipykernel_50166/4129940531.py:8: FutureWarning: In a future version of pandas all arguments of read_csv except for the argument 'filepath_or_buffer' will be keyword-only.\n",
      "  self.df = pd.read_csv(path, \"\\t\", encoding='ISO-8859-1')\n"
     ]
    },
    {
     "data": {
      "text/plain": [
       "4.3557347903101595"
      ]
     },
     "execution_count": 26,
     "metadata": {},
     "output_type": "execute_result"
    }
   ],
   "source": [
    "uim = UserItemData('data/user_ratedmovies.dat')\n",
    "formula_first_line = 0\n",
    "sum_sim = 0\n",
    "i = 0\n",
    "for movieid2 in pred_for_user_78[:, 1]:\n",
    "    rating = uim.get_rating_movie(78, int(movieid2))\n",
    "    if rating.size > 0:\n",
    "        sim = pred_for_user_78[i, 2]\n",
    "        sum_sim += sim\n",
    "        formula_first_line += (sim*rating[0])\n",
    "    i+=1\n",
    "\n",
    "pred = formula_first_line/sum_sim\n",
    "pred"
   ]
  },
  {
   "cell_type": "code",
   "execution_count": null,
   "id": "sharing-merchant",
   "metadata": {},
   "outputs": [],
   "source": []
  },
  {
   "cell_type": "code",
   "execution_count": 94,
   "id": "7cb63a0f",
   "metadata": {},
   "outputs": [
    {
     "name": "stdout",
     "output_type": "stream",
     "text": [
      "[  32.  110.  296. ... 6874. 7361. 7438.]\n",
      "[  170.   175.   267. ... 71525. 71529. 71534.]\n",
      "1218\n",
      "1218\n"
     ]
    }
   ],
   "source": [
    "# slope one\n",
    "#povprecje za vsak film \n",
    "movieid = 50\n",
    "\n",
    "df_np = uim.return_numpy_df()\n",
    "users_all = np.unique(df_np[:, 1])\n",
    "movies = df_np[:, 0]\n",
    "\n",
    "x = df_np[np.where(df_np[:, 0] == 50)]\n",
    "x[:, 1]\n",
    "movie1 = 50\n",
    "\n",
    "get_all_users_rating_for_one_movie = df_np[np.where(df_np[:, 0] == 50)]\n",
    "users = get_all_users_rating_for_one_movie[:, 1]\n",
    "rating = get_all_users_rating_for_one_movie[:, 2]\n",
    "print(movies)\n",
    "print(users)\n",
    "print(len(users))\n",
    "print(len(rating))\n",
    "\n",
    "#for movie in movies:\n",
    "#    users = df_np[np.where(df_np[:, 0] == movie)]\n",
    "    "
   ]
  },
  {
   "cell_type": "code",
   "execution_count": null,
   "id": "f5fab230",
   "metadata": {},
   "outputs": [],
   "source": [
    "predict_movie_ratings = dict()\n",
    "        for movieId in movies:\n",
    "            array_movieId_rating = df_np[np.where(df_np[:, 0] == movieId)]\n",
    "            formula_first_line = 0\n",
    "            i = 0\n",
    "            for movieid2 in array_movieId_rating[:, 1]:\n",
    "                # pedji cez vse uporabnike in odstej rating ki ga je dal up za vsak film\n",
    "                dev = 0\n",
    "                for user in df_np[:, 2]:\n",
    "                    ratingMovie1 = \n",
    "                \n",
    "                \n",
    "                \n",
    "                \n",
    "            pred = formula_first_line/sum_sim\n",
    "\n",
    "            predict_movie_ratings[movieId] = pred"
   ]
  },
  {
   "cell_type": "code",
   "execution_count": null,
   "id": "3855a8fa",
   "metadata": {},
   "outputs": [],
   "source": []
  }
 ],
 "metadata": {
  "kernelspec": {
   "display_name": "Python 3 (ipykernel)",
   "language": "python",
   "name": "python3"
  },
  "language_info": {
   "codemirror_mode": {
    "name": "ipython",
    "version": 3
   },
   "file_extension": ".py",
   "mimetype": "text/x-python",
   "name": "python",
   "nbconvert_exporter": "python",
   "pygments_lexer": "ipython3",
   "version": "3.10.9"
  },
  "vscode": {
   "interpreter": {
    "hash": "b0fa6594d8f4cbf19f97940f81e996739fb7646882a419484c72d19e05852a7e"
   }
  }
 },
 "nbformat": 4,
 "nbformat_minor": 5
}
