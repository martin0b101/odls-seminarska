{
 "cells": [
  {
   "cell_type": "code",
   "execution_count": 7,
   "id": "derived-brooks",
   "metadata": {},
   "outputs": [],
   "source": [
    "import pandas as pd\n",
    "import numpy as np\n",
    "import random\n",
    "import math"
   ]
  },
  {
   "cell_type": "code",
   "execution_count": 5,
   "id": "fuzzy-insertion",
   "metadata": {},
   "outputs": [],
   "source": [
    "# Branje ocen\n",
    "class UserItemData:\n",
    "\n",
    "    #data from table\n",
    "    #konstruktor\n",
    "\n",
    "    def __init__(self, path, from_date=None, to_date=None, min_ratings=0):\n",
    "        self.df = pd.read_csv(path, \"\\t\", encoding='ISO-8859-1')\n",
    "\n",
    "        #split from date to day, month, year\n",
    "        if (from_date != None):\n",
    "            from_date_a = from_date.split('.')\n",
    "            to_date_a = to_date.split('.')\n",
    "            # format of date is like that year-month-day\n",
    "            from_date_datef = str(f'{from_date_a[2]}-{from_date_a[1]}-{from_date_a[0]}')\n",
    "            to_date_datef = str(f'{to_date_a[2]}-{to_date_a[1]}-{to_date_a[0]}')\n",
    "            #make new column dates\n",
    "            self.df['dates'] = self.df[\"date_year\"].astype(str).str.cat(self.df[['date_month', 'date_day']].astype(str), sep='-')\n",
    "            self.df['dates'] = pd.to_datetime(self.df['dates'])\n",
    "            self.df = self.df[self.df['dates'].between(from_date_datef, to_date_datef, inclusive=True)]\n",
    "\n",
    "        self.df = self.df.groupby(\"movieID\").filter(lambda ratings: len(ratings) >= min_ratings)\n",
    "\n",
    "    def nratings(self):\n",
    "        return len(self.df['rating'].values)\n",
    "\n",
    "    def get_watched_movie_list(self, userId):\n",
    "        return self.df[self.df[\"userID\"] == userId]['movieID'].values\n",
    "    \n",
    "    def get_all_movies_id(self):\n",
    "        return self.df['movieID'].values\n",
    "\n",
    "    #vs - vsota vseh ocen za film movieId\n",
    "    def get_sum_rating_movie(self, movieId):\n",
    "        return sum(self.df[self.df['movieID'] == movieId]['rating'])\n",
    "   \n",
    "\n",
    "    def get_sum_rating_all_movies(self):\n",
    "        return sum(self.df['rating'])\n",
    "    \n",
    "    # n - stevilo ocen ki jih je dobil film\n",
    "    def get_number_rating_movie(self, movieId):\n",
    "        return len(self.df[self.df['movieID'] == movieId])\n",
    "\n",
    "    def get_rating_of_movie(self, movieId):\n",
    "        return list(self.df[self.df['movieID'] == movieId]['rating'].values)\n",
    "\n",
    "    def get_all_users(self):\n",
    "        return list(set(self.df['userID']))\n",
    "\n",
    "    def get_number_users_rated_movies(self, movie_id1, movie_id2):\n",
    "        return len(self.df[(self.df['movieID'] == movie_id1) | (self.df['movieID'] == movie_id2)]['userID'])\n",
    "\n",
    "    def return_numpy_df(self):\n",
    "        return self.df[['movieID', 'userID', 'rating']].to_numpy()\n",
    "\n",
    "    def get_rating_movie(self, user_id, movie_id):\n",
    "        return self.df[(self.df['userID'] == user_id) & (self.df['movieID'] == movie_id)]['rating'].values\n"
   ]
  },
  {
   "cell_type": "code",
   "execution_count": 14,
   "id": "nervous-grass",
   "metadata": {},
   "outputs": [],
   "source": [
    "#Branje ocen"
   ]
  },
  {
   "cell_type": "code",
   "execution_count": 11,
   "id": "preliminary-muscle",
   "metadata": {},
   "outputs": [
    {
     "name": "stdout",
     "output_type": "stream",
     "text": [
      "855598\n",
      "73657\n"
     ]
    }
   ],
   "source": [
    "uim = UserItemData('data/user_ratedmovies.dat')\n",
    "print(uim.nratings())\n",
    "\n",
    "uim = UserItemData('data/user_ratedmovies.dat', from_date = '12.1.2007', to_date='16.2.2008', min_ratings=100)\n",
    "print(uim.nratings())"
   ]
  },
  {
   "cell_type": "code",
   "execution_count": 16,
   "id": "dried-fantasy",
   "metadata": {},
   "outputs": [],
   "source": [
    "class MovieData:\n",
    "    def __init__(self, path):\n",
    "        # encoding not working on mac air so thats why encoiding is set\n",
    "        self.df = pd.read_csv(path, sep='\\t', encoding='ISO-8859-1')\n",
    "\n",
    "    def get_title(self, movieID):\n",
    "        data = self.df[self.df.id == movieID]['title']\n",
    "        return data.values[0]"
   ]
  },
  {
   "cell_type": "code",
   "execution_count": 17,
   "id": "fifteen-enterprise",
   "metadata": {},
   "outputs": [],
   "source": [
    "# Branje filmov"
   ]
  },
  {
   "cell_type": "code",
   "execution_count": 19,
   "id": "surrounded-insulin",
   "metadata": {},
   "outputs": [
    {
     "name": "stdout",
     "output_type": "stream",
     "text": [
      "Toy story\n"
     ]
    }
   ],
   "source": [
    "md = MovieData('data/movies.dat')\n",
    "print(md.get_title(1))"
   ]
  },
  {
   "cell_type": "code",
   "execution_count": 21,
   "id": "political-content",
   "metadata": {},
   "outputs": [],
   "source": [
    "# Nakljucni predikator"
   ]
  },
  {
   "cell_type": "code",
   "execution_count": 24,
   "id": "collective-affiliate",
   "metadata": {},
   "outputs": [],
   "source": [
    "class RandomPredictor:\n",
    "    def __init__(self, min, max):\n",
    "        self.min = min\n",
    "        self.max = max\n",
    "\n",
    "    def predict(self, user_id):\n",
    "        user_ratings = dict()\n",
    "        #min_movieID = self.user_item_data.df[\"movieID\"].min()\n",
    "        #max_movieID = self.user_item_data.df[\"movieID\"].max()\n",
    "        list_of_movieIDs = list(set(self.user_item_data.get_all_movies_id()))\n",
    "        list_of_movieIDs.sort()\n",
    "        #print('list of ids ', list_of_movieIDs)\n",
    "        for movieID in list_of_movieIDs:\n",
    "            user_ratings[movieID] = random.randint(self.min, self.max)\n",
    "        return user_ratings\n",
    "\n",
    "    def fit(self, user_item_data):\n",
    "        self.user_item_data = user_item_data\n"
   ]
  },
  {
   "cell_type": "code",
   "execution_count": 26,
   "id": "expressed-migration",
   "metadata": {},
   "outputs": [
    {
     "name": "stdout",
     "output_type": "stream",
     "text": [
      "<class 'dict'>\n",
      "Film: Toy story, ocena: 2\n",
      "Film: Grumpy Old Men, ocena: 4\n",
      "Film: Money Train, ocena: 3\n",
      "Film: The Usual Suspects, ocena: 5\n",
      "Film: City Hall, ocena: 1\n"
     ]
    }
   ],
   "source": [
    "md = MovieData('data/movies.dat')\n",
    "uim = UserItemData('data/user_ratedmovies.dat')\n",
    "rp = RandomPredictor(1, 5)\n",
    "rp.fit(uim)\n",
    "pred = rp.predict(78)\n",
    "print(type(pred))\n",
    "items = [1, 3, 20, 50, 100]\n",
    "for item in items:\n",
    "    print(\"Film: {}, ocena: {}\".format(md.get_title(item), pred[item]))"
   ]
  },
  {
   "cell_type": "code",
   "execution_count": 28,
   "id": "elegant-calculator",
   "metadata": {},
   "outputs": [],
   "source": [
    "class Recommender:\n",
    "    def __init__(self, predicator):\n",
    "        self.predicator = predicator\n",
    "    \n",
    "    def fit(self, user_item_data):\n",
    "        self.user_item_data = user_item_data\n",
    "        self.predicator.fit(self.user_item_data)\n",
    "\n",
    "    def recommend(self, userID, n=10, rec_seen=True):\n",
    "        predicted_grade = self.predicator.predict(userID)\n",
    "        recommendet_movies = []\n",
    "        watched_movie_list = list(self.user_item_data.get_watched_movie_list(userID))\n",
    "        if (rec_seen):\n",
    "            for movieId, grade in predicted_grade.items():\n",
    "                if movieId in watched_movie_list:\n",
    "                    recommendet_movies.append((movieId, grade))\n",
    "        else:\n",
    "            for movieId, grade in predicted_grade.items():\n",
    "                if movieId not in watched_movie_list:\n",
    "                    recommendet_movies.append((movieId, grade))\n",
    "        #sort recomended movies\n",
    "        recommendet_movies_sort = sorted(recommendet_movies, key=lambda t: t[1], reverse=True)\n",
    "        return recommendet_movies_sort[:n]"
   ]
  },
  {
   "cell_type": "code",
   "execution_count": 29,
   "id": "dense-singles",
   "metadata": {},
   "outputs": [],
   "source": [
    "# Priporocanje"
   ]
  },
  {
   "cell_type": "code",
   "execution_count": 31,
   "id": "polyphonic-april",
   "metadata": {},
   "outputs": [
    {
     "name": "stdout",
     "output_type": "stream",
     "text": [
      "Film: Grumpy Old Men, ocena: 5\n",
      "Film: Father of the Bride Part II, ocena: 5\n",
      "Film: Ninja Assassin, ocena: 5\n",
      "Film: Othello, ocena: 5\n",
      "Film: Wings of Courage, ocena: 5\n"
     ]
    }
   ],
   "source": [
    "md = MovieData('data/movies.dat')\n",
    "uim = UserItemData('data/user_ratedmovies.dat')\n",
    "rp = RandomPredictor(1, 5)\n",
    "rec = Recommender(rp)\n",
    "rec.fit(uim)\n",
    "rec_items = rec.recommend(78, n=5, rec_seen=False)\n",
    "for idmovie, val in rec_items:\n",
    "    print(\"Film: {}, ocena: {}\".format(md.get_title(idmovie), val))  "
   ]
  },
  {
   "cell_type": "code",
   "execution_count": 38,
   "id": "likely-invitation",
   "metadata": {},
   "outputs": [],
   "source": [
    "class AveragePredictor:\n",
    "    def __init__(self, b):\n",
    "        self.b = b\n",
    "\n",
    "    def fit(self, user_item_data):\n",
    "        self.user_item_data = user_item_data\n",
    "        self.g_avg = self.user_item_data.get_sum_rating_all_movies() / self.user_item_data.nratings()\n",
    "\n",
    "    def calculate(self, movie_id):\n",
    "        vs = self.user_item_data.get_sum_rating_movie(movie_id)\n",
    "        n = self.user_item_data.get_number_rating_movie(movie_id)\n",
    "        return (vs + self.b * self.g_avg) / (n + self.b)\n",
    "\n",
    "\n",
    "    def predict(self, user_id):\n",
    "        user_ratings = dict()\n",
    "        list_of_movieIDs = list(set(self.user_item_data.get_all_movies_id()))\n",
    "        list_of_movieIDs.sort()\n",
    "        for movieID in list_of_movieIDs:\n",
    "            user_ratings[movieID] = self.calculate(movieID)\n",
    "        return user_ratings"
   ]
  },
  {
   "cell_type": "code",
   "execution_count": 35,
   "id": "timely-france",
   "metadata": {},
   "outputs": [],
   "source": [
    "### Napovedovanje s povprecjem"
   ]
  },
  {
   "cell_type": "code",
   "execution_count": 40,
   "id": "editorial-album",
   "metadata": {},
   "outputs": [
    {
     "name": "stdout",
     "output_type": "stream",
     "text": [
      "Film: The Usual Suspects, ocena: 4.225944245560473\n",
      "Film: The Godfather: Part II, ocena: 4.146907937910189\n",
      "Film: Cidade de Deus, ocena: 4.116538340205236\n",
      "Film: The Dark Knight, ocena: 4.10413904093503\n",
      "Film: 12 Angry Men, ocena: 4.103639627096175\n"
     ]
    }
   ],
   "source": [
    "md = MovieData('data/movies.dat')\n",
    "uim = UserItemData('data/user_ratedmovies.dat')\n",
    "av = AveragePredictor(b=100)\n",
    "rec = Recommender(av)\n",
    "rec.fit(uim)\n",
    "rec_items = rec.recommend(78, n=5, rec_seen=False)\n",
    "for idmovie, val in rec_items:\n",
    "    print(\"Film: {}, ocena: {}\".format(md.get_title(idmovie), val))  "
   ]
  },
  {
   "cell_type": "code",
   "execution_count": 45,
   "id": "funded-watson",
   "metadata": {},
   "outputs": [],
   "source": [
    "class ViewsPredicator:\n",
    "    def __init__(self):\n",
    "        pass\n",
    "\n",
    "    def fit(self, user_item_data):\n",
    "        self.user_item_data = user_item_data\n",
    "\n",
    "    def predict(self, user_id):\n",
    "        user_ratings = dict()\n",
    "        list_of_movieIDs = list(set(self.user_item_data.get_all_movies_id()))\n",
    "        list_of_movieIDs.sort()\n",
    "        for movieID in list_of_movieIDs:\n",
    "            user_ratings[movieID] = self.user_item_data.get_number_rating_movie(movieID)\n",
    "        return user_ratings"
   ]
  },
  {
   "cell_type": "code",
   "execution_count": 46,
   "id": "surprised-clerk",
   "metadata": {},
   "outputs": [],
   "source": [
    "# Priporočanje najbolj gledanih filmov"
   ]
  },
  {
   "cell_type": "code",
   "execution_count": 51,
   "id": "impaired-condition",
   "metadata": {},
   "outputs": [
    {
     "name": "stdout",
     "output_type": "stream",
     "text": [
      "Film: The Lord of the Rings: The Fellowship of the Ring, ocena: 1576\n",
      "Film: The Lord of the Rings: The Two Towers, ocena: 1528\n",
      "Film: The Lord of the Rings: The Return of the King, ocena: 1457\n",
      "Film: The Silence of the Lambs, ocena: 1431\n",
      "Film: Shrek, ocena: 1404\n"
     ]
    }
   ],
   "source": [
    "md = MovieData('data/movies.dat')\n",
    "uim = UserItemData('data/user_ratedmovies.dat')\n",
    "vp = ViewsPredicator()\n",
    "rec = Recommender(vp)\n",
    "rec.fit(uim)\n",
    "rec_items = rec.recommend(78, n=5, rec_seen=False)\n",
    "for idmovie, val in rec_items:\n",
    "    print(\"Film: {}, ocena: {}\".format(md.get_title(idmovie), val)) "
   ]
  },
  {
   "cell_type": "code",
   "execution_count": null,
   "id": "caroline-zealand",
   "metadata": {},
   "outputs": [],
   "source": []
  },
  {
   "cell_type": "code",
   "execution_count": 63,
   "id": "australian-butterfly",
   "metadata": {},
   "outputs": [],
   "source": [
    "class ItemBasedPredictor:\n",
    "    def __init__(self, min_values=0, threshold=0):\n",
    "        self.min_values = min_values\n",
    "        self.threshold = threshold\n",
    "\n",
    "    def fit(self, user_item_data):\n",
    "        self.user_item_data = user_item_data\n",
    "        self.all_users = self.user_item_data.get_all_users()\n",
    "        self.df_numpy = self.user_item_data.return_numpy_df()\n",
    "        # get all users and calculates avg rating\n",
    "        self.user_avg = dict()\n",
    "        for user in self.all_users:\n",
    "            user_rating = self.user_item_data.df[self.user_item_data.df['userID'] == user]['rating']\n",
    "            self.user_avg[user] = sum(user_rating) / len(user_rating)\n",
    "        #self.all_sim = self.calculate_all_sim()\n",
    "    \n",
    "    # calculates all sim for every movie and returns dict \n",
    "    # with {(movieId1, movieId2): similarity} \n",
    "    def calculate_all_sim(self):\n",
    "        # all movies and sim\n",
    "        movie_sim = dict()\n",
    "        all_movies_np1 = np.unique(self.df_numpy[:, 0])\n",
    "        all_movies_np2 = np.unique(self.df_numpy[:, 0])\n",
    "        for movieId1 in all_movies_np1:\n",
    "            for movieId2 in all_movies_np2:\n",
    "                if movieId1 != movieId2:\n",
    "                    movie_sim[(movieId1, movieId2)] = self.similarity(movieId1, movieId2)\n",
    "        return movie_sim\n",
    "\n",
    "    def calcualte_all_sim_with_numpy(self):\n",
    "        movis_sim_np_array = []\n",
    "        all_movies_np1 = np.unique(self.df_numpy[:, 0])\n",
    "        all_movies_np2 = np.unique(self.df_numpy[:, 0])\n",
    "        for movieId1 in all_movies_np1:\n",
    "            for movieId2 in all_movies_np2:\n",
    "                if movieId1 != movieId2:\n",
    "                    similarity = self.similarity(movieId1, movieId2)\n",
    "                    if similarity > 0:\n",
    "                        movis_sim_np_array.append([movieId1, movieId2, similarity])\n",
    "        return np.array(movis_sim_np_array)\n",
    "    \n",
    "    \n",
    "    # for every sim that is >0 get the number of rating that user gave movie\n",
    "    # formula is sum(sim*rating_user)/sum(sim)\n",
    "    def predict(self, user_id):\n",
    "\n",
    "        pass\n",
    "\n",
    "    def similarity(self, p1, p2):\n",
    "        #check if number of users that graded two movies are enough\n",
    "        if (self.user_item_data.get_number_users_rated_movies(p1, p2) < self.min_values):\n",
    "            return 0.0\n",
    "\n",
    "        frist_line_in_fromula = 0\n",
    "        movie1_sqrt = 0\n",
    "        movie2_sqrt = 0\n",
    "        movie1_df_filter = self.df_numpy[np.where(self.df_numpy[:, 0] == p1)]\n",
    "        movie2_df_filter = self.df_numpy[np.where(self.df_numpy[:, 0] == p2)]\n",
    "        for user in self.user_avg.keys():\n",
    "            ratings_movie1 = movie1_df_filter[np.where(movie1_df_filter[:, 1] == user)]\n",
    "            ratings_movie2 = movie2_df_filter[np.where(movie2_df_filter[:, 1] == user)]\n",
    "            if ratings_movie1.size > 0 and ratings_movie2.size > 0:\n",
    "                avg_from_user = self.user_avg[user]\n",
    "                rating_movie1_cal = ratings_movie1[:, -1][0] - avg_from_user\n",
    "                rating_movie2_cal = ratings_movie2[:, -1][0] - avg_from_user\n",
    "                frist_line_in_fromula += ((rating_movie1_cal) * (rating_movie2_cal))\n",
    "                movie1_sqrt += ((rating_movie1_cal) ** 2)\n",
    "                movie2_sqrt += ((rating_movie2_cal) ** 2)\n",
    "        self.similarity_result = frist_line_in_fromula / (math.sqrt(movie1_sqrt)*math.sqrt(movie2_sqrt))\n",
    "        if self.similarity_result < self.threshold:\n",
    "            return 0.0\n",
    "        return self.similarity_result\n",
    "\n",
    "    # item is movieId\n",
    "    def similarItems(self, item, n):\n",
    "        movies_np_array = np.unique(self.df_numpy[:, 0])\n",
    "        most_similar = list()\n",
    "        for movieId in movies_np_array:\n",
    "            if movieId != item:\n",
    "                most_similar.append((movieId, self.similarity(item, movieId)))\n",
    "        most_similar.sort(key=lambda x : x[1], reverse=True)\n",
    "        return most_similar[:n]"
   ]
  },
  {
   "cell_type": "code",
   "execution_count": null,
   "id": "annoying-penetration",
   "metadata": {},
   "outputs": [],
   "source": []
  },
  {
   "cell_type": "code",
   "execution_count": 65,
   "id": "suitable-korea",
   "metadata": {},
   "outputs": [
    {
     "name": "stdout",
     "output_type": "stream",
     "text": [
      "Podobnost med filmoma 'Men in black'(1580) in 'Ghostbusters'(2716):  0.2339552317675662\n",
      "Podobnost med filmoma 'Men in black'(1580) in 'Schindler's List'(527):  0.0\n",
      "Podobnost med filmoma 'Men in black'(1580) in 'Independence day'(780):  0.42466125844687624\n"
     ]
    }
   ],
   "source": [
    "md = MovieData('data/movies.dat')\n",
    "uim = UserItemData('data/user_ratedmovies.dat', min_ratings=1000)\n",
    "rp = ItemBasedPredictor()\n",
    "rec = Recommender(rp)\n",
    "rec.fit(uim)\n",
    "print(\"Podobnost med filmoma 'Men in black'(1580) in 'Ghostbusters'(2716): \", rp.similarity(1580, 2716))\n",
    "print(\"Podobnost med filmoma 'Men in black'(1580) in 'Schindler's List'(527): \", rp.similarity(1580, 527))\n",
    "print(\"Podobnost med filmoma 'Men in black'(1580) in 'Independence day'(780): \", rp.similarity(1580, 780))"
   ]
  },
  {
   "cell_type": "code",
   "execution_count": null,
   "id": "efficient-hunger",
   "metadata": {},
   "outputs": [],
   "source": []
  },
  {
   "cell_type": "code",
   "execution_count": 59,
   "id": "authentic-lunch",
   "metadata": {},
   "outputs": [
    {
     "name": "stdout",
     "output_type": "stream",
     "text": [
      "Film1: The Lord of the Rings: The Two Towers, Film2: The Lord of the Rings: The Return of the King, podobnost: 0.8439842148481421\n",
      "Film1: The Lord of the Rings: The Return of the King, Film2: The Lord of the Rings: The Two Towers, podobnost: 0.8439842148481421\n",
      "Film1: The Lord of the Rings: The Fellowship of the Ring, Film2: The Lord of the Rings: The Two Towers, podobnost: 0.8231885401761893\n",
      "Film1: The Lord of the Rings: The Two Towers, Film2: The Lord of the Rings: The Fellowship of the Ring, podobnost: 0.8231885401761893\n",
      "Film1: The Lord of the Rings: The Fellowship of the Ring, Film2: The Lord of the Rings: The Return of the King, podobnost: 0.8079374897442505\n",
      "Film1: The Lord of the Rings: The Return of the King, Film2: The Lord of the Rings: The Fellowship of the Ring, podobnost: 0.8079374897442505\n",
      "Film1: Kill Bill: Vol. 2, Film2: Kill Bill: Vol. 2, podobnost: 0.7372340224381034\n",
      "Film1: Kill Bill: Vol. 2, Film2: Kill Bill: Vol. 2, podobnost: 0.7372340224381034\n",
      "Film1: Star Wars, Film2: Star Wars: Episode V - The Empire Strikes Back, podobnost: 0.7021321132220316\n",
      "Film1: Star Wars: Episode V - The Empire Strikes Back, Film2: Star Wars, podobnost: 0.7021321132220316\n",
      "Film1: Ace Ventura: Pet Detective, Film2: The Mask, podobnost: 0.6616471778494049\n",
      "Film1: The Mask, Film2: Ace Ventura: Pet Detective, podobnost: 0.6616471778494049\n",
      "Film1: Star Wars: Episode V - The Empire Strikes Back, Film2: Star Wars: Episode VI - Return of the Jedi, podobnost: 0.5992253753778934\n",
      "Film1: Star Wars: Episode VI - Return of the Jedi, Film2: Star Wars: Episode V - The Empire Strikes Back, podobnost: 0.5992253753778934\n",
      "Film1: Independence Day, Film2: Star Wars: Episode I - The Phantom Menace, podobnost: 0.5610426219249995\n",
      "Film1: Star Wars: Episode I - The Phantom Menace, Film2: Independence Day, podobnost: 0.5610426219249995\n",
      "Film1: Ace Ventura: Pet Detective, Film2: Austin Powers: The Spy Who Shagged Me, podobnost: 0.5546511205201548\n",
      "Film1: Austin Powers: The Spy Who Shagged Me, Film2: Ace Ventura: Pet Detective, podobnost: 0.5546511205201548\n",
      "Film1: Star Wars, Film2: Star Wars: Episode VI - Return of the Jedi, podobnost: 0.5537849318137376\n",
      "Film1: Star Wars: Episode VI - Return of the Jedi, Film2: Star Wars, podobnost: 0.5537849318137376\n"
     ]
    }
   ],
   "source": [
    "movies = np.array(list(set(uim.get_all_movies_id())))\n",
    "top_20_most_similar_movies = dict()\n",
    "for movie1 in movies:\n",
    "    for movie2 in movies:\n",
    "        if movie1 != movie2:\n",
    "            top_20_most_similar_movies[(movie1, movie2)] = (md.get_title(movie1), md.get_title(movie2))\n",
    "\n",
    "top_20_most_similar_movies_sorted = sorted(top_20_most_similar_movies)\n",
    "\n",
    "similarty_all_movies = list()\n",
    "for moveIds in top_20_most_similar_movies_sorted:\n",
    "    movieId1, movieId2 = moveIds\n",
    "    name = f\"Film1: {md.get_title(movieId1)}, Film2: {md.get_title(movieId2)}, podobnost:\"\n",
    "    podobnost = rp.similarity(movieId1, movieId2)\n",
    "    similarty_all_movies.append((name, podobnost))\n",
    "\n",
    "similarty_all_movies.sort(key=lambda x : x[1], reverse=True)\n",
    "\n",
    "for name_sim in similarty_all_movies[:20]:\n",
    "    name, sim = name_sim\n",
    "    print(f'{name} {sim}')"
   ]
  },
  {
   "cell_type": "code",
   "execution_count": 61,
   "id": "alpha-company",
   "metadata": {},
   "outputs": [
    {
     "name": "stdout",
     "output_type": "stream",
     "text": [
      "Filmi podobni \"The Lord of the Rings: The Fellowship of the Ring\": \n",
      "Film: The Lord of the Rings: The Two Towers, ocena: 0.8231885401761893\n",
      "Film: The Lord of the Rings: The Return of the King, ocena: 0.8079374897442505\n",
      "Film: Star Wars: Episode V - The Empire Strikes Back, ocena: 0.23961943073496456\n",
      "Film: Star Wars, ocena: 0.21965586527074096\n",
      "Film: The Matrix, ocena: 0.21515552706880264\n",
      "Film: Raiders of the Lost Ark, ocena: 0.19944276706345018\n",
      "Film: The Usual Suspects, ocena: 0.18321188451910747\n",
      "Film: Blade Runner, ocena: 0.16399681315410283\n",
      "Film: Schindler's List, ocena: 0.16105905138148705\n",
      "Film: Monty Python and the Holy Grail, ocena: 0.15780453798519112\n"
     ]
    }
   ],
   "source": [
    "rec_items = rp.similarItems(4993, 10)\n",
    "print('Filmi podobni \"The Lord of the Rings: The Fellowship of the Ring\": ')\n",
    "for idmovie, val in rec_items:\n",
    "    print(\"Film: {}, ocena: {}\".format(md.get_title(idmovie), val))"
   ]
  },
  {
   "cell_type": "code",
   "execution_count": null,
   "id": "precise-blank",
   "metadata": {},
   "outputs": [],
   "source": []
  },
  {
   "cell_type": "code",
   "execution_count": null,
   "id": "optimum-granny",
   "metadata": {},
   "outputs": [],
   "source": []
  },
  {
   "cell_type": "code",
   "execution_count": null,
   "id": "protective-interstate",
   "metadata": {},
   "outputs": [],
   "source": []
  },
  {
   "cell_type": "code",
   "execution_count": 6,
   "id": "peripheral-surname",
   "metadata": {},
   "outputs": [
    {
     "ename": "NameError",
     "evalue": "name 'rp' is not defined",
     "output_type": "error",
     "traceback": [
      "\u001b[0;31m---------------------------------------------------------------------------\u001b[0m",
      "\u001b[0;31mNameError\u001b[0m                                 Traceback (most recent call last)",
      "\u001b[0;32m<ipython-input-6-f9910f559b70>\u001b[0m in \u001b[0;36m<module>\u001b[0;34m\u001b[0m\n\u001b[0;32m----> 1\u001b[0;31m \u001b[0mall_sim\u001b[0m \u001b[0;34m=\u001b[0m \u001b[0mrp\u001b[0m\u001b[0;34m.\u001b[0m\u001b[0mcalcualte_all_sim_with_numpy\u001b[0m\u001b[0;34m(\u001b[0m\u001b[0;34m)\u001b[0m\u001b[0;34m\u001b[0m\u001b[0;34m\u001b[0m\u001b[0m\n\u001b[0m\u001b[1;32m      2\u001b[0m \u001b[0mprint\u001b[0m\u001b[0;34m(\u001b[0m\u001b[0mall_sim\u001b[0m\u001b[0;34m[\u001b[0m\u001b[0;36m0\u001b[0m\u001b[0;34m]\u001b[0m\u001b[0;34m)\u001b[0m\u001b[0;34m\u001b[0m\u001b[0;34m\u001b[0m\u001b[0m\n",
      "\u001b[0;31mNameError\u001b[0m: name 'rp' is not defined"
     ]
    }
   ],
   "source": [
    "all_sim = rp.calcualte_all_sim_with_numpy()\n",
    "print(all_sim[0])"
   ]
  },
  {
   "cell_type": "code",
   "execution_count": null,
   "id": "intimate-round",
   "metadata": {},
   "outputs": [],
   "source": []
  },
  {
   "cell_type": "code",
   "execution_count": 78,
   "id": "sweet-category",
   "metadata": {},
   "outputs": [
    {
     "data": {
      "text/plain": [
       "0.0825715477438452"
      ]
     },
     "execution_count": 78,
     "metadata": {},
     "output_type": "execute_result"
    }
   ],
   "source": [
    "all_sim[1,2]"
   ]
  },
  {
   "cell_type": "code",
   "execution_count": 81,
   "id": "favorite-elite",
   "metadata": {},
   "outputs": [],
   "source": [
    "movieIds1 = all_sim[:, 0]\n",
    "movieIds2 = all_sim[:, 1] \n",
    "sums = all_sim[:, 2]"
   ]
  },
  {
   "cell_type": "code",
   "execution_count": null,
   "id": "recreational-disney",
   "metadata": {},
   "outputs": [],
   "source": [
    "def predict(user, movieId):\n",
    "    \n",
    "    \n",
    "    "
   ]
  },
  {
   "cell_type": "code",
   "execution_count": null,
   "id": "current-walter",
   "metadata": {},
   "outputs": [],
   "source": []
  },
  {
   "cell_type": "code",
   "execution_count": 4,
   "id": "related-estonia",
   "metadata": {},
   "outputs": [
    {
     "ename": "NameError",
     "evalue": "name 'all_sim' is not defined",
     "output_type": "error",
     "traceback": [
      "\u001b[0;31m---------------------------------------------------------------------------\u001b[0m",
      "\u001b[0;31mNameError\u001b[0m                                 Traceback (most recent call last)",
      "\u001b[0;32m<ipython-input-4-cbd8ca4fefe3>\u001b[0m in \u001b[0;36m<module>\u001b[0;34m\u001b[0m\n\u001b[0;32m----> 1\u001b[0;31m \u001b[0mpred_for_user_78\u001b[0m \u001b[0;34m=\u001b[0m \u001b[0mall_sim\u001b[0m\u001b[0;34m[\u001b[0m\u001b[0mnp\u001b[0m\u001b[0;34m.\u001b[0m\u001b[0mwhere\u001b[0m\u001b[0;34m(\u001b[0m\u001b[0mall_sim\u001b[0m\u001b[0;34m[\u001b[0m\u001b[0;34m:\u001b[0m\u001b[0;34m,\u001b[0m \u001b[0;36m0\u001b[0m\u001b[0;34m]\u001b[0m \u001b[0;34m==\u001b[0m \u001b[0;36m47\u001b[0m\u001b[0;34m)\u001b[0m\u001b[0;34m]\u001b[0m\u001b[0;34m\u001b[0m\u001b[0;34m\u001b[0m\u001b[0m\n\u001b[0m",
      "\u001b[0;31mNameError\u001b[0m: name 'all_sim' is not defined"
     ]
    }
   ],
   "source": [
    "pred_for_user_78 = all_sim[np.where(all_sim[:, 0] == 47)]"
   ]
  },
  {
   "cell_type": "code",
   "execution_count": 3,
   "id": "lined-testing",
   "metadata": {},
   "outputs": [
    {
     "ename": "NameError",
     "evalue": "name 'pred_for_user_78' is not defined",
     "output_type": "error",
     "traceback": [
      "\u001b[0;31m---------------------------------------------------------------------------\u001b[0m",
      "\u001b[0;31mNameError\u001b[0m                                 Traceback (most recent call last)",
      "\u001b[0;32m<ipython-input-3-f36500bfd4a0>\u001b[0m in \u001b[0;36m<module>\u001b[0;34m\u001b[0m\n\u001b[0;32m----> 1\u001b[0;31m \u001b[0mpred_for_user_78\u001b[0m\u001b[0;34m\u001b[0m\u001b[0;34m\u001b[0m\u001b[0m\n\u001b[0m",
      "\u001b[0;31mNameError\u001b[0m: name 'pred_for_user_78' is not defined"
     ]
    }
   ],
   "source": [
    "pred_for_user_78"
   ]
  },
  {
   "cell_type": "code",
   "execution_count": 2,
   "id": "missing-legislation",
   "metadata": {},
   "outputs": [
    {
     "ename": "NameError",
     "evalue": "name 'pred_for_user_78' is not defined",
     "output_type": "error",
     "traceback": [
      "\u001b[0;31m---------------------------------------------------------------------------\u001b[0m",
      "\u001b[0;31mNameError\u001b[0m                                 Traceback (most recent call last)",
      "\u001b[0;32m<ipython-input-2-ea7ab34bf789>\u001b[0m in \u001b[0;36m<module>\u001b[0;34m\u001b[0m\n\u001b[1;32m      1\u001b[0m \u001b[0mformula_first_line\u001b[0m \u001b[0;34m=\u001b[0m \u001b[0;36m0\u001b[0m\u001b[0;34m\u001b[0m\u001b[0;34m\u001b[0m\u001b[0m\n\u001b[0;32m----> 2\u001b[0;31m \u001b[0msum_sim\u001b[0m \u001b[0;34m=\u001b[0m \u001b[0msum\u001b[0m\u001b[0;34m(\u001b[0m\u001b[0mpred_for_user_78\u001b[0m\u001b[0;34m[\u001b[0m\u001b[0;34m:\u001b[0m\u001b[0;34m,\u001b[0m \u001b[0;36m2\u001b[0m\u001b[0;34m]\u001b[0m\u001b[0;34m)\u001b[0m\u001b[0;34m\u001b[0m\u001b[0;34m\u001b[0m\u001b[0m\n\u001b[0m\u001b[1;32m      3\u001b[0m \u001b[0mi\u001b[0m \u001b[0;34m=\u001b[0m \u001b[0;36m0\u001b[0m\u001b[0;34m\u001b[0m\u001b[0;34m\u001b[0m\u001b[0m\n\u001b[1;32m      4\u001b[0m \u001b[0;32mfor\u001b[0m \u001b[0mmovieid2\u001b[0m \u001b[0;32min\u001b[0m \u001b[0mpred_for_user_78\u001b[0m\u001b[0;34m[\u001b[0m\u001b[0;34m:\u001b[0m\u001b[0;34m,\u001b[0m \u001b[0;36m1\u001b[0m\u001b[0;34m]\u001b[0m\u001b[0;34m:\u001b[0m\u001b[0;34m\u001b[0m\u001b[0;34m\u001b[0m\u001b[0m\n\u001b[1;32m      5\u001b[0m     \u001b[0mrating\u001b[0m \u001b[0;34m=\u001b[0m \u001b[0muim\u001b[0m\u001b[0;34m.\u001b[0m\u001b[0mget_rating_movie\u001b[0m\u001b[0;34m(\u001b[0m\u001b[0;36m78\u001b[0m\u001b[0;34m,\u001b[0m \u001b[0mmovieid2\u001b[0m\u001b[0;34m)\u001b[0m\u001b[0;34m\u001b[0m\u001b[0;34m\u001b[0m\u001b[0m\n",
      "\u001b[0;31mNameError\u001b[0m: name 'pred_for_user_78' is not defined"
     ]
    }
   ],
   "source": [
    "\n",
    "formula_first_line = 0\n",
    "sum_sim = sum(pred_for_user_78[:, 2])\n",
    "i = 0\n",
    "for movieid2 in pred_for_user_78[:, 1]:\n",
    "    rating = uim.get_rating_movie(78, movieid2)\n",
    "    if rating.size > 0:\n",
    "        sim = pred_for_user_78[i, 2]\n",
    "        formula_first_line += (sim*rating[0])\n",
    "    i+=1\n",
    "\n",
    "pred = formula_first_line/sum_sim\n",
    "pred"
   ]
  },
  {
   "cell_type": "code",
   "execution_count": null,
   "id": "sharing-merchant",
   "metadata": {},
   "outputs": [],
   "source": []
  }
 ],
 "metadata": {
  "kernelspec": {
   "display_name": "Python 3",
   "language": "python",
   "name": "python3"
  },
  "language_info": {
   "codemirror_mode": {
    "name": "ipython",
    "version": 3
   },
   "file_extension": ".py",
   "mimetype": "text/x-python",
   "name": "python",
   "nbconvert_exporter": "python",
   "pygments_lexer": "ipython3",
   "version": "3.9.2"
  }
 },
 "nbformat": 4,
 "nbformat_minor": 5
}
